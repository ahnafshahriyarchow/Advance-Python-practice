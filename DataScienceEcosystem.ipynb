{
 "cells": [
  {
   "cell_type": "markdown",
   "id": "772a8bcf-e601-4f86-8902-a66a253d36c9",
   "metadata": {},
   "source": [
    "# Data Science Tools and Ecosystem"
   ]
  },
  {
   "cell_type": "markdown",
   "id": "c268b755-ea81-45f0-9927-ef33f7122aa7",
   "metadata": {},
   "source": [
    "In this notebook, the summary of Data Science Tools and Ecosystem are mentioned."
   ]
  },
  {
   "cell_type": "markdown",
   "id": "fc6c56e0-cc7e-4e3f-a504-032d2a599dcf",
   "metadata": {},
   "source": [
    "**Objectives:**  \n",
    "\n",
    "- List popular languages for Data Science  \n",
    "- Identify commonly used Data Science libraries  \n",
    "- Explore various Data Science tools and development environments  \n",
    "- Perform arithmetic operations in Python  \n",
    "- Convert minutes to hours using a mathematical expression  \n"
   ]
  },
  {
   "cell_type": "markdown",
   "id": "e44c357a-0b9d-44b8-8063-4796d55b9791",
   "metadata": {},
   "source": [
    "Some of the popular languages that Data Scientists use are:  \n",
    "\n",
    "1. Python  \n",
    "2. R  \n",
    "3. SQL  \n",
    "4. Julia  \n",
    "5. Scala  \n"
   ]
  },
  {
   "cell_type": "markdown",
   "id": "5eb98b87-f3ff-4e7b-a1d6-c5cd076694cf",
   "metadata": {},
   "source": [
    "Some of the commonly used libraries used by Data Scientists include:  \n",
    "1. Pandas  \n",
    "2. NumPy  \n",
    "3. Scikit-learn  \n",
    "4. TensorFlow  \n",
    "5. Matplotlib \n"
   ]
  },
  {
   "cell_type": "markdown",
   "id": "5328b2eb-cfe7-4951-949b-f3ed78da4a33",
   "metadata": {},
   "source": [
    "### Data Science Tools  \n",
    "\n",
    "| Data Science Tools |\n",
    "|--------------------|\n",
    "| Jupyter Notebook  |\n",
    "| RStudio          |\n",
    "| Apache Zeppelin  |\n"
   ]
  },
  {
   "cell_type": "markdown",
   "id": "3f862187-2a56-456e-aa10-963095b73d6b",
   "metadata": {},
   "source": [
    "### Below are a few examples of evaluating arithmetic expressions in Python.\n"
   ]
  },
  {
   "cell_type": "code",
   "execution_count": 4,
   "id": "de704bc7-8026-4d16-9d2e-86fa45105d69",
   "metadata": {},
   "outputs": [
    {
     "data": {
      "text/plain": [
       "17"
      ]
     },
     "execution_count": 4,
     "metadata": {},
     "output_type": "execute_result"
    }
   ],
   "source": [
    "#This is a simple arithmetic expression to multiply then add integers.\n",
    "(3 * 4) + 5"
   ]
  },
  {
   "cell_type": "code",
   "execution_count": 5,
   "id": "aee2befe-07e7-40b5-8b24-a11ff4f32314",
   "metadata": {},
   "outputs": [
    {
     "data": {
      "text/plain": [
       "3.3333333333333335"
      ]
     },
     "execution_count": 5,
     "metadata": {},
     "output_type": "execute_result"
    }
   ],
   "source": [
    "#This will convert 200 minutes to hours by dividing by 60.\n",
    "200 / 60\n"
   ]
  },
  {
   "cell_type": "markdown",
   "id": "fef68ed5-764e-454a-a258-0df2719294e3",
   "metadata": {},
   "source": [
    "## Author  \n",
    "Ahnaf Shahriyar Chowdhury"
   ]
  }
 ],
 "metadata": {
  "kernelspec": {
   "display_name": "Python 3 (ipykernel)",
   "language": "python",
   "name": "python3"
  },
  "language_info": {
   "codemirror_mode": {
    "name": "ipython",
    "version": 3
   },
   "file_extension": ".py",
   "mimetype": "text/x-python",
   "name": "python",
   "nbconvert_exporter": "python",
   "pygments_lexer": "ipython3",
   "version": "3.12.8"
  }
 },
 "nbformat": 4,
 "nbformat_minor": 5
}
